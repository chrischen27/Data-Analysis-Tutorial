{
 "cells": [
  {
   "cell_type": "markdown",
   "id": "559aa0be",
   "metadata": {},
   "source": [
    "## Application"
   ]
  },
  {
   "cell_type": "code",
   "execution_count": null,
   "id": "50a3ea42",
   "metadata": {},
   "outputs": [],
   "source": [
    "import pandas as pd\n",
    "\n",
    "df = pd.read_excel('./data/sample21.xlsx')\n",
    "df.info()"
   ]
  },
  {
   "cell_type": "code",
   "execution_count": null,
   "id": "6301c1f6",
   "metadata": {},
   "outputs": [],
   "source": [
    "display(df)"
   ]
  },
  {
   "cell_type": "code",
   "execution_count": null,
   "id": "8fc8e88c",
   "metadata": {},
   "outputs": [],
   "source": [
    "print(\"df shape: \" + str(df.shape))"
   ]
  },
  {
   "cell_type": "code",
   "execution_count": null,
   "id": "37afcb49",
   "metadata": {},
   "outputs": [],
   "source": [
    "df.isnull().sum()"
   ]
  },
  {
   "cell_type": "code",
   "execution_count": null,
   "id": "337735e5",
   "metadata": {},
   "outputs": [],
   "source": [
    "df_duplicated = df.duplicated().any()\n",
    "print(df_duplicated)"
   ]
  },
  {
   "cell_type": "code",
   "execution_count": null,
   "id": "a99afb64",
   "metadata": {},
   "outputs": [],
   "source": [
    "df_new = df.drop_duplicates().reset_index(drop=True)\n",
    "df_new.info()"
   ]
  },
  {
   "cell_type": "code",
   "execution_count": null,
   "id": "936304e3",
   "metadata": {},
   "outputs": [],
   "source": [
    "df_new[df_new['PID'] == 'A03587']"
   ]
  },
  {
   "cell_type": "code",
   "execution_count": null,
   "id": "f2b76487",
   "metadata": {},
   "outputs": [],
   "source": [
    "df_tmp = df_new[df_new['PID'] == 'A03587'][['PID', 'DCODE']]\n",
    "display(df_tmp)"
   ]
  },
  {
   "cell_type": "code",
   "execution_count": null,
   "id": "c4de7bd1",
   "metadata": {},
   "outputs": [],
   "source": [
    "df_tmp.duplicated().sum()"
   ]
  },
  {
   "cell_type": "code",
   "execution_count": null,
   "id": "d8b7bf18",
   "metadata": {},
   "outputs": [],
   "source": [
    "df_tmp.drop_duplicates()"
   ]
  },
  {
   "cell_type": "code",
   "execution_count": null,
   "id": "73e93fe8",
   "metadata": {},
   "outputs": [],
   "source": [
    "pidList = df['PID'].unique()\n",
    "print(\"Unique PIDs: \" + str(len(pidList)))\n",
    "dcodeList = df['DCODE'].unique()\n",
    "print(\"Unique diagnoses: \" + str(len(dcodeList)))"
   ]
  },
  {
   "cell_type": "markdown",
   "id": "e104751e",
   "metadata": {},
   "source": [
    "### Goal\n",
    "\n",
    "|PID|DCODE1|DCODE2|...|DCODE89|\n",
    "|---|---|---|---|-----|\n",
    "|P1|1|0|...|1|\n",
    "|P2|1|0|...|0|\n",
    "|P3|0|1|...|1|\n"
   ]
  },
  {
   "cell_type": "code",
   "execution_count": null,
   "id": "a3160cfb",
   "metadata": {},
   "outputs": [],
   "source": [
    "dataDict = {}\n",
    "dataDict['PID'] = pidList\n",
    "for dcode in dcodeList:\n",
    "    dataDict[dcode] = []\n",
    "print(dataDict)\n",
    "\n",
    "# dataDict = {\n",
    "#     'PID': pidList,\n",
    "#     'A00': [],\n",
    "#     'A01': [],\n",
    "#     'A02': []\n",
    "# }\n"
   ]
  },
  {
   "cell_type": "code",
   "execution_count": null,
   "id": "4b86caa2",
   "metadata": {},
   "outputs": [],
   "source": [
    "for pid in dataDict['PID']:\n",
    "    print(pid)"
   ]
  },
  {
   "cell_type": "code",
   "execution_count": null,
   "id": "8d43ff1c",
   "metadata": {},
   "outputs": [],
   "source": [
    "# 從pid list角度，一個一個看每個pid的資料\n",
    "for pid in dataDict['PID']:\n",
    "    # 將大的dataframe根據PID做篩選\n",
    "    # 只保留該pid的資料，並存到一個新到變數pid_data\n",
    "    pid_data = df[df['PID'] == pid]\n",
    "\n",
    "    # 對於每個診斷碼，檢查該patient是否有此診斷碼\n",
    "    for dcode in dcodeList:\n",
    "        # 如果該patient有此診斷碼，則在dataDict中對應的列表添加1，否則添加0\n",
    "        if dcode in pid_data['DCODE'].values:\n",
    "            dataDict[dcode].append(1)\n",
    "        else:\n",
    "            dataDict[dcode].append(0)\n",
    "\n",
    "print(dataDict)"
   ]
  },
  {
   "cell_type": "code",
   "execution_count": null,
   "id": "f892f874",
   "metadata": {},
   "outputs": [],
   "source": [
    "print(dataDict['PID'][13])\n",
    "print(dataDict['A1'][13])"
   ]
  },
  {
   "cell_type": "code",
   "execution_count": null,
   "id": "8a88d45d",
   "metadata": {},
   "outputs": [],
   "source": [
    "df_new = pd.DataFrame(dataDict)\n",
    "display(df_new)"
   ]
  },
  {
   "cell_type": "code",
   "execution_count": null,
   "id": "c4d23243",
   "metadata": {},
   "outputs": [],
   "source": [
    "df_new.to_excel('./excel/sample21_new.xlsx', index=False)"
   ]
  }
 ],
 "metadata": {
  "kernelspec": {
   "display_name": "Python 3",
   "language": "python",
   "name": "python3"
  },
  "language_info": {
   "codemirror_mode": {
    "name": "ipython",
    "version": 3
   },
   "file_extension": ".py",
   "mimetype": "text/x-python",
   "name": "python",
   "nbconvert_exporter": "python",
   "pygments_lexer": "ipython3",
   "version": "3.13.3"
  }
 },
 "nbformat": 4,
 "nbformat_minor": 5
}
