{
 "cells": [
  {
   "cell_type": "markdown",
   "id": "c2c7e626",
   "metadata": {},
   "source": [
    "## Data Processing Example"
   ]
  },
  {
   "cell_type": "code",
   "execution_count": null,
   "id": "55d9c8f0",
   "metadata": {},
   "outputs": [],
   "source": [
    "import pandas as pd\n",
    "\n",
    "df = pd.read_excel('./data/sample20.xlsx')\n",
    "display(df)"
   ]
  },
  {
   "cell_type": "code",
   "execution_count": null,
   "id": "1eadb36f",
   "metadata": {},
   "outputs": [],
   "source": [
    "# print data size of df\n",
    "print(df.shape)\n",
    "print(\"Number of Rows:\", df.shape[0])\n",
    "print(\"Number of Columns:\", df.shape[1])"
   ]
  },
  {
   "cell_type": "code",
   "execution_count": null,
   "id": "6710a378",
   "metadata": {},
   "outputs": [],
   "source": [
    "df.columns"
   ]
  },
  {
   "cell_type": "code",
   "execution_count": null,
   "id": "e37f19cd",
   "metadata": {},
   "outputs": [],
   "source": [
    "# dataframe information\n",
    "df.info()"
   ]
  },
  {
   "cell_type": "code",
   "execution_count": null,
   "id": "3600f5ab",
   "metadata": {},
   "outputs": [],
   "source": [
    "# simple statistics\n",
    "df.describe()"
   ]
  },
  {
   "cell_type": "code",
   "execution_count": null,
   "id": "9f945f81",
   "metadata": {},
   "outputs": [],
   "source": [
    "df.head(3)"
   ]
  },
  {
   "cell_type": "code",
   "execution_count": null,
   "id": "f08f8182",
   "metadata": {},
   "outputs": [],
   "source": [
    "df.tail(5)"
   ]
  },
  {
   "cell_type": "code",
   "execution_count": null,
   "id": "d165ff66",
   "metadata": {},
   "outputs": [],
   "source": [
    "# Check null values\n",
    "# df.isnull()\n",
    "df.isnull().sum()"
   ]
  },
  {
   "cell_type": "code",
   "execution_count": null,
   "id": "8fe10438",
   "metadata": {},
   "outputs": [],
   "source": [
    "# Check if there are any duplicated rows\n",
    "df_duplicated = df.duplicated().any()\n",
    "print(df_duplicated)"
   ]
  },
  {
   "cell_type": "code",
   "execution_count": null,
   "id": "0f8ad19d",
   "metadata": {},
   "outputs": [],
   "source": [
    "df.drop_duplicates()"
   ]
  },
  {
   "cell_type": "code",
   "execution_count": null,
   "id": "ef7346dd",
   "metadata": {},
   "outputs": [],
   "source": [
    "# Get distinct values in a specific column\n",
    "df['TYPE'].unique()"
   ]
  },
  {
   "cell_type": "code",
   "execution_count": null,
   "id": "9446821b",
   "metadata": {},
   "outputs": [],
   "source": [
    "# How many distinct value in a column\n",
    "df['TYPE'].nunique()"
   ]
  },
  {
   "cell_type": "code",
   "execution_count": null,
   "id": "5824156c",
   "metadata": {},
   "outputs": [],
   "source": [
    "# Get the number of each distinct value in a column\n",
    "df['TYPE'].value_counts()"
   ]
  }
 ],
 "metadata": {
  "kernelspec": {
   "display_name": "Python 3",
   "language": "python",
   "name": "python3"
  },
  "language_info": {
   "codemirror_mode": {
    "name": "ipython",
    "version": 3
   },
   "file_extension": ".py",
   "mimetype": "text/x-python",
   "name": "python",
   "nbconvert_exporter": "python",
   "pygments_lexer": "ipython3",
   "version": "3.13.3"
  }
 },
 "nbformat": 4,
 "nbformat_minor": 5
}
