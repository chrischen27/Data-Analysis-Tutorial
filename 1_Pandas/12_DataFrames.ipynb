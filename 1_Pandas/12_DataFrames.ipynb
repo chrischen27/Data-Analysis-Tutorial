{
 "cells": [
  {
   "cell_type": "markdown",
   "id": "544f23c1",
   "metadata": {},
   "source": [
    "## DataFrames\n",
    "\n",
    "### Process Data with\n",
    "- Columns\n",
    "- Filters\n",
    "- Mapping\n"
   ]
  },
  {
   "cell_type": "code",
   "execution_count": null,
   "id": "5a402391",
   "metadata": {},
   "outputs": [],
   "source": [
    "import pandas as pd\n",
    "# Read the new csv file output3.csv\n",
    "df = pd.read_csv('output3.csv')\n",
    "display(df)"
   ]
  },
  {
   "cell_type": "code",
   "execution_count": null,
   "id": "42d9852d",
   "metadata": {},
   "outputs": [],
   "source": [
    "# get specified rows\n",
    "df[2:5]"
   ]
  },
  {
   "cell_type": "code",
   "execution_count": null,
   "id": "b00561c5",
   "metadata": {},
   "outputs": [],
   "source": [
    "# get data in specified column\n",
    "df['Name']"
   ]
  },
  {
   "cell_type": "code",
   "execution_count": null,
   "id": "0965e536",
   "metadata": {},
   "outputs": [],
   "source": [
    "# get specified columns\n",
    "df[ ['Name', 'City'] ]"
   ]
  },
  {
   "cell_type": "code",
   "execution_count": null,
   "id": "db235ccd",
   "metadata": {},
   "outputs": [],
   "source": [
    "# Filter by single condition\n",
    "df[ df['Age'] > 30 ]"
   ]
  },
  {
   "cell_type": "code",
   "execution_count": null,
   "id": "cd4e33c3",
   "metadata": {},
   "outputs": [],
   "source": [
    "# Filter by multiple conditions\n",
    "df[\n",
    "    (df['Age'] == 35) & \n",
    "    (df['Salary'] > 50000)\n",
    "]"
   ]
  },
  {
   "cell_type": "code",
   "execution_count": null,
   "id": "79ea3a59",
   "metadata": {},
   "outputs": [],
   "source": [
    "df[\n",
    "    (df['City'] != \"Chicago\") \n",
    "]"
   ]
  },
  {
   "cell_type": "code",
   "execution_count": null,
   "id": "fb209ccb",
   "metadata": {},
   "outputs": [],
   "source": [
    "# Filter by multiple conditions and select specific columns\n",
    "df[\n",
    "    (df['Age'] > 30) & \n",
    "    (df['Salary'] > 50000)\n",
    "][['Name', 'City']]"
   ]
  },
  {
   "cell_type": "code",
   "execution_count": null,
   "id": "8bb52277",
   "metadata": {},
   "outputs": [],
   "source": [
    "# Get unique values in a column\n",
    "df['City'].unique()"
   ]
  },
  {
   "cell_type": "code",
   "execution_count": null,
   "id": "4eec4ca2",
   "metadata": {},
   "outputs": [],
   "source": [
    "# Get the number of unique values in a column\n",
    "df['City'].nunique()"
   ]
  },
  {
   "cell_type": "code",
   "execution_count": null,
   "id": "041c6b3c",
   "metadata": {},
   "outputs": [],
   "source": [
    "# 不同的值與出現的次數\n",
    "df['City'].value_counts()"
   ]
  },
  {
   "cell_type": "code",
   "execution_count": null,
   "id": "c13150cc",
   "metadata": {},
   "outputs": [],
   "source": [
    "# Add a new column\n",
    "df['Pets'] = [1, 0, 2, 2, 0, 3]\n",
    "display(df)"
   ]
  },
  {
   "cell_type": "code",
   "execution_count": null,
   "id": "5758647b",
   "metadata": {},
   "outputs": [],
   "source": [
    "# Add new colume by mapping\n",
    "# Create a dictionary of people with license\n",
    "DriveLicense = {\n",
    "    'Frank': False,\n",
    "    'Denny': True,\n",
    "    'Alice': False,\n",
    "    'Elly': False\n",
    "}\n",
    "\n",
    "# Add the 'Drive License' column by mapping the 'Name' column\n",
    "df['Drive License'] = df['Name'].map(DriveLicense)\n",
    "display(df)\n"
   ]
  }
 ],
 "metadata": {
  "kernelspec": {
   "display_name": "Python 3",
   "language": "python",
   "name": "python3"
  },
  "language_info": {
   "codemirror_mode": {
    "name": "ipython",
    "version": 3
   },
   "file_extension": ".py",
   "mimetype": "text/x-python",
   "name": "python",
   "nbconvert_exporter": "python",
   "pygments_lexer": "ipython3",
   "version": "3.13.3"
  }
 },
 "nbformat": 4,
 "nbformat_minor": 5
}
