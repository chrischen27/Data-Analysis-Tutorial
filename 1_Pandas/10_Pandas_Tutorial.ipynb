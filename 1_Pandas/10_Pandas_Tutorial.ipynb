{
 "cells": [
  {
   "cell_type": "markdown",
   "id": "0e4b9e90",
   "metadata": {},
   "source": [
    "## Python Package - pandas\n",
    "\n",
    "### pandas\n",
    "- Python中用於資料處理的套件，與Excel相似，只是使用程式碼操作表格\n",
    "- pandas中還有使用到其他相依套件，ex: NumPy (Numerical Python)，是科學計算中常用套件\n",
    "- 在pandas中作為像是Excel Sheet的物件稱為DataFrame\n",
    "\n",
    "---\n",
    "\n",
    "- 推薦書籍\n",
    "  - [Python資料分析 (O’Reilly)](https://www.books.com.tw/products/0010968510?srsltid=AfmBOoryGkv8JPPyoZ8S2Iu-KtqMNQyNL-ID14nWQDcx3b5jpDw_3tPd)\n",
    "- 相似套件\n",
    "  - polars\n",
    "    - 跟pandas能做的事一樣，也支援pandas的DataFrame\n",
    "    - 更強大、處理資料速度更快\n",
    "    - 比較新，所以使用方式的介紹比較少"
   ]
  },
  {
   "cell_type": "code",
   "execution_count": null,
   "id": "2ded048c",
   "metadata": {},
   "outputs": [],
   "source": [
    "# 使用套件 import\n",
    "# You can just import pandas. But every time you call function under pandas, you'll need to type pandas.function_name.\n",
    "# Sometimes we will set up abbreviation such as pd for pandas. That's how lazy engineers are. Avoid redundant work.\n",
    "import pandas as pd\n",
    "\n",
    "# Create a simple DataFrame\n",
    "data = {\n",
    "    'Name': ['Alice', 'Bob', 'Charlie'],\n",
    "    'Age': [25, 30, 35],\n",
    "    'City': ['New York', 'Los Angeles', 'Chicago']\n",
    "}\n",
    "df = pd.DataFrame(data)\n",
    "display(df)"
   ]
  },
  {
   "cell_type": "code",
   "execution_count": null,
   "id": "0c0fcddf",
   "metadata": {},
   "outputs": [],
   "source": [
    "print(\"DataFrame:\")\n",
    "display(df)"
   ]
  },
  {
   "cell_type": "code",
   "execution_count": null,
   "id": "42567cb6",
   "metadata": {},
   "outputs": [],
   "source": [
    "df.describe()"
   ]
  },
  {
   "cell_type": "code",
   "execution_count": null,
   "id": "d0b74c19",
   "metadata": {},
   "outputs": [],
   "source": [
    "# Filter rows where Age > 30\n",
    "filtered_df = df[ df['Age'] > 30 ]\n",
    "print(\"Filtered DataFrame (Age > 30):\")\n",
    "display(filtered_df)"
   ]
  },
  {
   "cell_type": "code",
   "execution_count": null,
   "id": "84fa2f8f",
   "metadata": {},
   "outputs": [],
   "source": [
    "# Add a new column\n",
    "df['Salary'] = [70000, 80000, 90000]\n",
    "print(\"DataFrame with new column (Salary):\")\n",
    "display(df)\n"
   ]
  },
  {
   "cell_type": "code",
   "execution_count": null,
   "id": "384c2fdf",
   "metadata": {},
   "outputs": [],
   "source": [
    "# Save the DataFrame to a CSV file\n",
    "df.to_csv('output1.csv', index=False)\n",
    "\n",
    "# 只支援新版 excel, 不能讀寫 97-2003 的 \".xls\" 檔案\n",
    "# 需要安裝 openpyxl 套件: pip install openpyxl\n",
    "df.to_excel('output2.xlsx', index=False)\n",
    "print(\"DataFrame saved\")"
   ]
  }
 ],
 "metadata": {
  "kernelspec": {
   "display_name": "Python 3",
   "language": "python",
   "name": "python3"
  },
  "language_info": {
   "codemirror_mode": {
    "name": "ipython",
    "version": 3
   },
   "file_extension": ".py",
   "mimetype": "text/x-python",
   "name": "python",
   "nbconvert_exporter": "python",
   "pygments_lexer": "ipython3",
   "version": "3.13.3"
  }
 },
 "nbformat": 4,
 "nbformat_minor": 5
}
