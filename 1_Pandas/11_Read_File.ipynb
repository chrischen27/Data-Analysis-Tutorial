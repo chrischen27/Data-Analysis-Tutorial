{
 "cells": [
  {
   "cell_type": "markdown",
   "id": "544f23c1",
   "metadata": {},
   "source": [
    "## Read Files with Pandas\n",
    "\n",
    "### CSV File\n",
    "- Comma-Separated Values 逗號分割值\n",
    "- 像是Excel的表格文件檔案，內容為純文字\n",
    "- 表格分隔方式\n",
    "  - 空格 \" \"\n",
    "  - 逗號 \",\"\n",
    "  - TAB \"\\t\"\n",
    "- 副檔名通常為\".csv\"，只是方便作業系統辨識，並推薦可使用何種軟體開啟\n",
    "\n",
    "> Note: 「\\」處理跳脫字元，\"\\n\"代表換行符號，可以當作是按下一個 \"ENTER\" 鍵\n",
    "\n",
    "Reference: [CSV WIKI](https://zh.wikipedia.org/zh-tw/%E9%80%97%E5%8F%B7%E5%88%86%E9%9A%94%E5%80%BC)\n"
   ]
  },
  {
   "cell_type": "code",
   "execution_count": null,
   "id": "3c216f14",
   "metadata": {},
   "outputs": [],
   "source": [
    "import pandas as pd\n",
    "\n",
    "# Read csv file and save it to a DataFrame\n",
    "df = pd.read_csv('output1.csv')\n",
    "# If file contains chinese characters, sometimes it is necessary to specify the encoding.\n",
    "# It depends on the file encoding. utf-8 or big5.\n",
    "# df = pd.read_csv('output1.csv', encoding='big5')\n",
    "display(df)\n"
   ]
  },
  {
   "cell_type": "code",
   "execution_count": null,
   "id": "d734d8fa",
   "metadata": {},
   "outputs": [],
   "source": [
    "# Read excel file and save it to a DataFrame\n",
    "df_excel = pd.read_excel('output2.xlsx')\n",
    "display(df_excel)"
   ]
  },
  {
   "cell_type": "code",
   "execution_count": null,
   "id": "9487a8ef",
   "metadata": {},
   "outputs": [],
   "source": [
    "# Add new rows / Concat two DataFrames\n",
    "new_data = {\n",
    "    'Name': ['Denny', 'Elly', 'Frank'],\n",
    "    'Age': [54, 18, 70],\n",
    "    'City': ['Chicago', 'Los Angeles', 'Los Angeles'],\n",
    "    'Salary': [110000, 36000, 30000]\n",
    "}\n",
    "new_rows = pd.DataFrame(new_data)\n",
    "display(new_rows)\n",
    "\n",
    "print(\"-----\")\n",
    "\n",
    "new_df = pd.concat([df, new_rows], ignore_index=True)\n",
    "display(new_df)\n",
    "\n",
    "# index=False means that the index will not be written to the file\n",
    "# new_df.to_csv('output3.csv', index=False)\n",
    "# new_df.to_csv('output3.csv')"
   ]
  }
 ],
 "metadata": {
  "kernelspec": {
   "display_name": "Python 3",
   "language": "python",
   "name": "python3"
  },
  "language_info": {
   "codemirror_mode": {
    "name": "ipython",
    "version": 3
   },
   "file_extension": ".py",
   "mimetype": "text/x-python",
   "name": "python",
   "nbconvert_exporter": "python",
   "pygments_lexer": "ipython3",
   "version": "3.13.3"
  }
 },
 "nbformat": 4,
 "nbformat_minor": 5
}
