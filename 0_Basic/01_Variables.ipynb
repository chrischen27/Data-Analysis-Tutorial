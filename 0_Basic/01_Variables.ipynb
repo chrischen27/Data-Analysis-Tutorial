{
 "cells": [
  {
   "cell_type": "markdown",
   "id": "019fd8b2",
   "metadata": {},
   "source": [
    "## Variables\n",
    "\n",
    "### 變數的命名\n",
    "- 英文、數字與底線的組合\n",
    "- 只能以英文開頭 (大小寫皆可)\n",
    "- 不可以是程式語言中的關鍵字或保留字 (if, else, for, type, ...)"
   ]
  },
  {
   "cell_type": "code",
   "execution_count": null,
   "id": "089d38d4",
   "metadata": {},
   "outputs": [],
   "source": [
    "x = 1\n",
    "y = 2\n",
    "\n",
    "print(x)\n",
    "print(x, y)\n",
    "print(x + y)"
   ]
  },
  {
   "cell_type": "code",
   "execution_count": null,
   "id": "9179ddd1",
   "metadata": {},
   "outputs": [],
   "source": [
    "dog_weight = 20.5\n",
    "dog2_weight = 30.5\n",
    "\n",
    "birdWeight = 0.5\n",
    "\n",
    "# save results in variables\n",
    "total = dog_weight + dog2_weight + birdWeight\n",
    "print(total)"
   ]
  },
  {
   "cell_type": "code",
   "execution_count": null,
   "id": "e4be94ae",
   "metadata": {},
   "outputs": [],
   "source": [
    "# all capital letters for constants\n",
    "PI = 3.14\n",
    "r = 5\n",
    "# calculate area of circle = PI * r^2\n",
    "# r**2 is r squared\n",
    "area = PI * r**2\n",
    "print(area)"
   ]
  },
  {
   "cell_type": "markdown",
   "id": "de667c46",
   "metadata": {},
   "source": [
    "### 字串表示\n",
    "- 用單引號('your text')或是雙引號(\"可以中文\")將文字包在其中\n",
    "- 用'''/\"\"\"包覆文字可以輸入多行"
   ]
  },
  {
   "cell_type": "code",
   "execution_count": null,
   "id": "50be59ef",
   "metadata": {},
   "outputs": [],
   "source": [
    "text1 = '1. Hello'\n",
    "text2 = \"2. 你好\"\n",
    "text3 = '''3. Hello\n",
    "first line\n",
    "second line\n",
    "third line'''\n",
    "\n",
    "text4 = \"\"\"\n",
    "    4. Hello 2\n",
    "    anything\n",
    "\"\"\"\n",
    "\n",
    "print(text1)\n",
    "print(text2)\n",
    "print(text3)\n",
    "print(text4)\n",
    "print(\"THE END\")\n"
   ]
  },
  {
   "cell_type": "code",
   "execution_count": null,
   "id": "a0c7afde",
   "metadata": {},
   "outputs": [],
   "source": [
    "print(text1 + \" and \" + text2)\n",
    "print(text1 * 3)"
   ]
  },
  {
   "cell_type": "markdown",
   "id": "14f45a04",
   "metadata": {},
   "source": [
    "### List and Dictionary\n",
    "\n",
    "- List\n",
    "  - `[1, 1, 2, 3, 5, 8]`\n",
    "  - `['b', 'd', 'k', 'a', 's']`\n",
    "\n",
    "- Dictionary: with key and value\n",
    "  ```python\n",
    "  dog_info = {\n",
    "    \"Name\": \"Lucky\",\n",
    "    \"Weight\": 20,\n",
    "    \"Color\": \"Black\",\n",
    "    \"Vegan\": False\n",
    "  }\n",
    "  ```\n",
    "> Another variable type is **bool** (Boolean) - True/False"
   ]
  },
  {
   "cell_type": "code",
   "execution_count": null,
   "id": "f8243a8d",
   "metadata": {},
   "outputs": [],
   "source": [
    "# Index of List/Array is starting from 0\n",
    "# idx:     0    1    2    3    4\n",
    "myList = ['b', 'd', 'k', 'a', 's']\n",
    "print(myList[0])\n",
    "print(myList[4])\n",
    "print(myList[0:3])  # from 0 to 2\n",
    "print(myList[:4])\n",
    "print(myList[1:])\n",
    "print(myList[-1])  # last element\n",
    "print(len(myList))  # length of list"
   ]
  },
  {
   "cell_type": "code",
   "execution_count": null,
   "id": "b4d4f796",
   "metadata": {},
   "outputs": [],
   "source": [
    "dog_info = {\n",
    "    \"Name\": \"Lucky\",\n",
    "    \"Weight\": 20,\n",
    "    \"Color\": \"Black\",\n",
    "    \"Vegan\": False\n",
    "}\n",
    "print(dog_info[\"Name\"])\n",
    "print(dog_info[\"Weight\"])\n",
    "print(dog_info[\"Color\"])\n",
    "print(dog_info[\"Vegan\"])\n",
    "print(dog_info.keys())"
   ]
  }
 ],
 "metadata": {
  "kernelspec": {
   "display_name": "Python 3",
   "language": "python",
   "name": "python3"
  },
  "language_info": {
   "codemirror_mode": {
    "name": "ipython",
    "version": 3
   },
   "file_extension": ".py",
   "mimetype": "text/x-python",
   "name": "python",
   "nbconvert_exporter": "python",
   "pygments_lexer": "ipython3",
   "version": "3.13.3"
  }
 },
 "nbformat": 4,
 "nbformat_minor": 5
}
