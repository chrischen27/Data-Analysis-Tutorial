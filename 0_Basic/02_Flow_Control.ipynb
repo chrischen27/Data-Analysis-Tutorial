{
 "cells": [
  {
   "cell_type": "markdown",
   "id": "7bd503df",
   "metadata": {},
   "source": [
    "## Flow Control\n",
    "\n",
    "### 條件判斷 if / elif (else if) / else\n"
   ]
  },
  {
   "cell_type": "code",
   "execution_count": null,
   "id": "caabfe7c",
   "metadata": {},
   "outputs": [],
   "source": [
    "a = 5\n",
    "if a > 10:\n",
    "    # leave 4 spaces for indentation, so python can understand the block\n",
    "    # of code that belongs to the if statement\n",
    "    print(\"a is greater than 10\")\n",
    "elif a == 5:\n",
    "    print(\"a is 5\")\n",
    "elif a < 1:\n",
    "    print(\"a is less than 1\")\n",
    "else:\n",
    "    print(\"not in above condition\")\n",
    "\n",
    "b = 10\n",
    "\n",
    "if b != 5:\n",
    "    print(\"b is not 5\")\n"
   ]
  },
  {
   "cell_type": "markdown",
   "id": "c24ca6fd",
   "metadata": {},
   "source": [
    "### 迴圈控制\n",
    "- for\n",
    "  - 給予範圍進行迭代 (iteration)\n",
    "- while\n",
    "  - 給予條件決定是否繼續重複執行\n",
    "  - 常用於跑背景程式 (今天會跳過)"
   ]
  },
  {
   "cell_type": "code",
   "execution_count": null,
   "id": "35c0260c",
   "metadata": {},
   "outputs": [],
   "source": [
    "# i represents index iteration variable for range. If we have nested loops, we will use j, k, ...\n",
    "# But normally we won't have too much loop, it will slow down the program.\n",
    "for i in range(3):\n",
    "    print(i)\n",
    "\n",
    "print(\"===\")\n",
    "\n",
    "for i in range(1, 5):\n",
    "    print(i)"
   ]
  },
  {
   "cell_type": "code",
   "execution_count": null,
   "id": "be0e97e4",
   "metadata": {},
   "outputs": [],
   "source": [
    "data = [1, 3.5, 144, -15, 0.1, 0, 1000]\n",
    "\n",
    "for d in data:\n",
    "    if d > 0:\n",
    "        print(f\"d = {d} is positive\")\n",
    "    elif d < 0:\n",
    "        print(f\"d = {d} is negative\")\n",
    "    else:\n",
    "        print(f\"d = {d} is zero\")"
   ]
  },
  {
   "cell_type": "code",
   "execution_count": null,
   "id": "9b5fdc75",
   "metadata": {},
   "outputs": [],
   "source": [
    "for d in data:\n",
    "    if d > 100:\n",
    "        # f-strings means format strings.\n",
    "        # We can use it to format the string with variables\n",
    "        print(f\"d = {d} is greater than 100\")\n",
    "        continue\n",
    "        # continue will skip the rest of the loop and go to the next iteration\n",
    "\n",
    "    if d > 0:\n",
    "        print(f\"d = {d} is positive\")\n",
    "    elif d < 0:\n",
    "        print(f\"d = {d} is negative\")\n",
    "    else:\n",
    "        print(f\"d = {d} is zero\")"
   ]
  },
  {
   "cell_type": "code",
   "execution_count": null,
   "id": "42ed37ff",
   "metadata": {},
   "outputs": [
    {
     "name": "stdout",
     "output_type": "stream",
     "text": [
      "Alice scored 90\n",
      "Bob scored 101\n",
      "Bob scored more than 100, and it's weird. Please check the scores.\n",
      "Done.\n"
     ]
    }
   ],
   "source": [
    "score = {\n",
    "    \"Alice\": 90,\n",
    "    \"Bob\": 101,\n",
    "    \"Charlie\": 95,\n",
    "}\n",
    "\n",
    "for name, score in score.items():\n",
    "    print(f\"{name} scored {score}\")\n",
    "\n",
    "    if score > 100:\n",
    "        print(f\"{name} scored more than 100, and it's weird! Please check the scores.\")\n",
    "        break\n"
   ]
  }
 ],
 "metadata": {
  "kernelspec": {
   "display_name": "Python 3",
   "language": "python",
   "name": "python3"
  },
  "language_info": {
   "codemirror_mode": {
    "name": "ipython",
    "version": 3
   },
   "file_extension": ".py",
   "mimetype": "text/x-python",
   "name": "python",
   "nbconvert_exporter": "python",
   "pygments_lexer": "ipython3",
   "version": "3.13.3"
  }
 },
 "nbformat": 4,
 "nbformat_minor": 5
}
